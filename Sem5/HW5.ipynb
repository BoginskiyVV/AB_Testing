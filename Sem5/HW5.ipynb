{
 "cells": [
  {
   "attachments": {},
   "cell_type": "markdown",
   "metadata": {},
   "source": [
    "1)Вы провели эксперимент c упрощением формы заказа в магазине Утконос и получили результаты по метрике конверсий в покупку. Выберите метод оценки и оцените есть ли стат.значимые различия между конверсиями в двух группах при alpha = 5%. Дайте краткие рекомендации команде .Результаты: 1)Число юзеров в группах , которые заходили на сайт в период эксперимента: n1 = 15550 и n2 = 15550 . 2) Число юзеров в группах , которые совершили хотя бы одну покупку за период эксперимента: n1 = 164 и n2 = 228 3) Конверсии : conv1 = 1.05% conv2 = 1.47% ."
   ]
  },
  {
   "cell_type": "code",
   "execution_count": 5,
   "metadata": {},
   "outputs": [],
   "source": [
    "from math import sqrt\n",
    "\n",
    "n1 = 164\n",
    "n2 = 228\n",
    "p1 = 164 / n1\n",
    "p2 = 228 / n2\n",
    "N1 = 15550\n",
    "N2 = N1"
   ]
  },
  {
   "cell_type": "code",
   "execution_count": 6,
   "metadata": {},
   "outputs": [
    {
     "ename": "ZeroDivisionError",
     "evalue": "float division by zero",
     "output_type": "error",
     "traceback": [
      "\u001b[1;31m---------------------------------------------------------------------------\u001b[0m",
      "\u001b[1;31mZeroDivisionError\u001b[0m                         Traceback (most recent call last)",
      "Cell \u001b[1;32mIn[6], line 2\u001b[0m\n\u001b[0;32m      1\u001b[0m p \u001b[39m=\u001b[39m (n1\u001b[39m*\u001b[39mp1 \u001b[39m+\u001b[39m n2\u001b[39m*\u001b[39mp2) \u001b[39m/\u001b[39m (n1 \u001b[39m+\u001b[39m n2)\n\u001b[1;32m----> 2\u001b[0m z \u001b[39m=\u001b[39m (p1 \u001b[39m-\u001b[39;49m p2) \u001b[39m/\u001b[39;49m sqrt(p \u001b[39m*\u001b[39;49m (\u001b[39m1\u001b[39;49m\u001b[39m-\u001b[39;49mp) \u001b[39m*\u001b[39;49m (\u001b[39m1\u001b[39;49m\u001b[39m/\u001b[39;49mN1 \u001b[39m+\u001b[39;49m \u001b[39m1\u001b[39;49m\u001b[39m/\u001b[39;49mN2))\n\u001b[0;32m      3\u001b[0m z\n",
      "\u001b[1;31mZeroDivisionError\u001b[0m: float division by zero"
     ]
    }
   ],
   "source": [
    "p = (n1*p1 + n2*p2) / (n1 + n2)\n",
    "z = (p1 - p2) / sqrt(p * (1-p) * (1/N1 + 1/N2))\n",
    "z"
   ]
  }
 ],
 "metadata": {
  "kernelspec": {
   "display_name": "Python 3",
   "language": "python",
   "name": "python3"
  },
  "language_info": {
   "codemirror_mode": {
    "name": "ipython",
    "version": 3
   },
   "file_extension": ".py",
   "mimetype": "text/x-python",
   "name": "python",
   "nbconvert_exporter": "python",
   "pygments_lexer": "ipython3",
   "version": "3.11.2"
  },
  "orig_nbformat": 4,
  "vscode": {
   "interpreter": {
    "hash": "84b768e5fd9d6d46756d9369cf41ddf6710ad98e848161bf2bdcc1526f2508f6"
   }
  }
 },
 "nbformat": 4,
 "nbformat_minor": 2
}
