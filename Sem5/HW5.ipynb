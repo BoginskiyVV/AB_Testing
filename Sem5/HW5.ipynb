{
 "cells": [
  {
   "attachments": {},
   "cell_type": "markdown",
   "metadata": {},
   "source": [
    "1)Вы провели эксперимент c упрощением формы заказа в магазине Утконос и получили результаты по метрике конверсий в покупку. Выберите метод оценки и оцените есть ли стат.значимые различия между конверсиями в двух группах при alpha = 5%. Дайте краткие рекомендации команде .Результаты: 1)Число юзеров в группах , которые заходили на сайт в период эксперимента: n1 = 15550 и n2 = 15550 . 2) Число юзеров в группах , которые совершили хотя бы одну покупку за период эксперимента: n1 = 164 и n2 = 228 3) Конверсии : conv1 = 1.05% conv2 = 1.47% ."
   ]
  },
  {
   "cell_type": "code",
   "execution_count": 16,
   "metadata": {},
   "outputs": [],
   "source": [
    "from scipy.stats import chi2_contingency"
   ]
  },
  {
   "cell_type": "code",
   "execution_count": 26,
   "metadata": {},
   "outputs": [
    {
     "data": {
      "text/plain": [
       "[[164, 228], [15386, 15322]]"
      ]
     },
     "execution_count": 26,
     "metadata": {},
     "output_type": "execute_result"
    }
   ],
   "source": [
    "data = [[164, 228], [(15550-164), (15550-228)]]\n",
    "data"
   ]
  },
  {
   "cell_type": "code",
   "execution_count": 27,
   "metadata": {},
   "outputs": [],
   "source": [
    "stat, p, dof, expected = chi2_contingency(data)"
   ]
  },
  {
   "cell_type": "code",
   "execution_count": 32,
   "metadata": {},
   "outputs": [
    {
     "name": "stdout",
     "output_type": "stream",
     "text": [
      "Значение статистического критерия:  10.254249706916763\n",
      "p-значение:  0.00136370085531923\n",
      "Число степеней свободы:  1\n",
      "Теоритическая таблица сопряженности [[  196.   196.]\n",
      " [15354. 15354.]]\n"
     ]
    }
   ],
   "source": [
    "print(\"Значение статистического критерия: \", stat)\n",
    "print(\"p-значение: \", p)\n",
    "print(\"Число степеней свободы: \", dof)\n",
    "print(\"Теоритическая таблица сопряженности\", expected)"
   ]
  },
  {
   "cell_type": "code",
   "execution_count": 33,
   "metadata": {},
   "outputs": [
    {
     "name": "stdout",
     "output_type": "stream",
     "text": [
      "P value = 0.00136370085531923\n",
      "Нулевая гипотеза о равенстве конверсий отвергается\n"
     ]
    }
   ],
   "source": [
    "alpha = 0.05\n",
    "print(\"P value = \" + str(p))\n",
    "if p <= alpha:\n",
    "    print(\"Нулевая гипотеза о равенстве конверсий отвергается\")\n",
    "else:\n",
    "    print(\"Нулевая гипотеза о равенстве принимается\")"
   ]
  },
  {
   "attachments": {},
   "cell_type": "markdown",
   "metadata": {},
   "source": [
    "Упрощение формы увеличило конверсию"
   ]
  },
  {
   "attachments": {},
   "cell_type": "markdown",
   "metadata": {},
   "source": [
    "Задача № 2\n",
    "\n",
    "Сравниваем метрику конверсия в покупку. Размер выборки - 10000 элементов в каждой группе . Какой статистический критерий тут лучше всего подойдёт и почему ?"
   ]
  },
  {
   "attachments": {},
   "cell_type": "markdown",
   "metadata": {},
   "source": [
    "Для варианта, если \"купил/не купил\" можно использовать хи-квадрат при сравненении конверсий двух групп. "
   ]
  }
 ],
 "metadata": {
  "kernelspec": {
   "display_name": "venv",
   "language": "python",
   "name": "python3"
  },
  "language_info": {
   "codemirror_mode": {
    "name": "ipython",
    "version": 3
   },
   "file_extension": ".py",
   "mimetype": "text/x-python",
   "name": "python",
   "nbconvert_exporter": "python",
   "pygments_lexer": "ipython3",
   "version": "3.11.2"
  },
  "orig_nbformat": 4,
  "vscode": {
   "interpreter": {
    "hash": "41a1529f2d1047b03b25726c373ac06f8e23f68ef6c47fc90ebd26161d87bd1b"
   }
  }
 },
 "nbformat": 4,
 "nbformat_minor": 2
}
